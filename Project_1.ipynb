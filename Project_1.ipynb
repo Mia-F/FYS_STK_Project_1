{
 "cells": [
  {
   "attachments": {},
   "cell_type": "markdown",
   "id": "6060626f",
   "metadata": {
    "editable": true
   },
   "source": [
    "<!-- HTML file automatically generated from DocOnce source (https://github.com/doconce/doconce/)\n",
    "doconce format html Project1.do.txt  -->\n",
    "<!-- dom:TITLE: Project 1 on Machine Learning, deadline October 9 (midnight), 2023 -->"
   ]
  },
  {
   "attachments": {},
   "cell_type": "markdown",
   "id": "fd9f7098",
   "metadata": {
    "editable": true
   },
   "source": [
    "# Project 1 on Machine Learning, deadline October 9 (midnight), 2023\n",
    "**[Data Analysis and Machine Learning FYS-STK3155/FYS4155](http://www.uio.no/studier/emner/matnat/fys/FYS3155/index-eng.html)**, University of Oslo, Norway\n",
    "\n",
    "Date: **September 3**"
   ]
  },
  {
   "attachments": {},
   "cell_type": "markdown",
   "id": "75f7ac9b",
   "metadata": {
    "editable": true
   },
   "source": [
    "## Regression analysis and resampling methods\n",
    "\n",
    "The main aim of this project is to study in more detail various\n",
    "regression methods, including the Ordinary Least Squares (OLS) method.\n",
    "In addition to the scientific part, in this course we want also to\n",
    "give you an experience in writing scientific reports.  The format for\n",
    "the delivery of your answers is namely that of a scientific report. At\n",
    "for example\n",
    "<https://github.com/CompPhysics/MachineLearning/blob/master/doc/Projects/EvaluationGrading/EvaluationForm.md>\n",
    "we detail how to write a report. Furthermore, at\n",
    "<https://github.com/CompPhysics/MachineLearning/blob/master/doc/Projects/ReportExample/>\n",
    "you can find examples of previous reports. How to write reports will\n",
    "also be discussed during the various lab sessions.\n",
    "\n",
    "**A small recommendation when developing the codes here**. Instead of\n",
    "jumping on to the two-dimensional function described below, we\n",
    "recommend to do the code development and testing with a simpler\n",
    "one-dimensional function, similar to those discussed in the exercises\n",
    "of weeks 35 and 36. A simple test, as discussed during the lectures the first\n",
    "two weeks is to set the design matrix equal to the identity\n",
    "matrix. Then your model should give a mean square error which is exactly equal to zero.\n",
    "When you are sure that your codes function well, you can then replace\n",
    "the one-dimensional test function with the two-dimensional **Franke** function\n",
    "discussed here.\n",
    "\n",
    "The Franke function serves as a stepping stone towards the analysis of\n",
    "real topographic data. The latter is the last part of this project."
   ]
  },
  {
   "attachments": {},
   "cell_type": "markdown",
   "id": "988b2436",
   "metadata": {
    "editable": true
   },
   "source": [
    "### Description of two-dimensional function\n",
    "\n",
    "We will first study how to fit polynomials to a specific\n",
    "two-dimensional function called [Franke's\n",
    "function](http://www.dtic.mil/dtic/tr/fulltext/u2/a081688.pdf).  This\n",
    "is a function which has been widely used when testing various\n",
    "interpolation and fitting algorithms. Furthermore, after having\n",
    "established the model and the method, we will employ resamling\n",
    "techniques such as cross-validation and/or bootstrap in order to perform a\n",
    "proper assessment of our models. We will also study in detail the\n",
    "so-called Bias-Variance trade off.\n",
    "\n",
    "The Franke function, which is a weighted sum of four exponentials  reads as follows"
   ]
  },
  {
   "attachments": {},
   "cell_type": "markdown",
   "id": "0725f6b3",
   "metadata": {
    "editable": true
   },
   "source": [
    "$$\n",
    "\\begin{align*}\n",
    "f(x,y) &= \\frac{3}{4}\\exp{\\left(-\\frac{(9x-2)^2}{4} - \\frac{(9y-2)^2}{4}\\right)}+\\frac{3}{4}\\exp{\\left(-\\frac{(9x+1)^2}{49}- \\frac{(9y+1)}{10}\\right)} \\\\\n",
    "&+\\frac{1}{2}\\exp{\\left(-\\frac{(9x-7)^2}{4} - \\frac{(9y-3)^2}{4}\\right)} -\\frac{1}{5}\\exp{\\left(-(9x-4)^2 - (9y-7)^2\\right) }.\n",
    "\\end{align*}\n",
    "$$"
   ]
  },
  {
   "attachments": {},
   "cell_type": "markdown",
   "id": "de583594",
   "metadata": {
    "editable": true
   },
   "source": [
    "The function will be defined for $x,y\\in [0,1]$.  In a sense, our data are thus scaled to a particular domain for the input values.\n",
    "\n",
    "Our first step will\n",
    "be to perform an OLS regression analysis of this function, trying out\n",
    "a polynomial fit with an $x$ and $y$ dependence of the form $[x, y,\n",
    "x^2, y^2, xy, \\dots]$. We will also include bootstrap first as a\n",
    "resampling technique.  After that we will include the cross-validation\n",
    "technique.\n",
    "\n",
    "We can\n",
    "use a uniform distribution to set up the arrays of values for $x$ and\n",
    "$y$, or as in the example below just a set of fixed values for $x$ and\n",
    "$y$ with a given step size.  We will fit a function (for example a\n",
    "polynomial) of $x$ and $y$.  Thereafter we will repeat much of the\n",
    "same procedure using the Ridge and Lasso regression methods,\n",
    "introducing thus a dependence on the bias (penalty) $\\lambda$.\n",
    "\n",
    "Finally we are going to use (real) digital terrain data and try to\n",
    "reproduce these data using the same methods. We will also try to go\n",
    "beyond the second-order polynomials metioned above and explore \n",
    "which polynomial fits the data best.\n",
    "\n",
    "The Python code for the Franke function is included here (it performs also a three-dimensional plot of it)"
   ]
  },
  {
   "cell_type": "code",
   "execution_count": null,
   "id": "130a5d79",
   "metadata": {
    "collapsed": false,
    "editable": true,
    "jupyter": {
     "outputs_hidden": false
    }
   },
   "outputs": [],
   "source": [
    "%matplotlib inline\n",
    "\n",
    "from mpl_toolkits.mplot3d import Axes3D\n",
    "import matplotlib.pyplot as plt\n",
    "from matplotlib import cm\n",
    "from matplotlib.ticker import LinearLocator, FormatStrFormatter\n",
    "import numpy as np\n",
    "from random import random, seed\n",
    "\n",
    "fig = plt.figure()\n",
    "ax = fig.gca(projection='3d')\n",
    "\n",
    "# Make data.\n",
    "x = np.arange(0, 1, 0.05)\n",
    "y = np.arange(0, 1, 0.05)\n",
    "x, y = np.meshgrid(x,y)\n",
    "\n",
    "\n",
    "def FrankeFunction(x,y):\n",
    "    term1 = 0.75*np.exp(-(0.25*(9*x-2)**2) - 0.25*((9*y-2)**2))\n",
    "    term2 = 0.75*np.exp(-((9*x+1)**2)/49.0 - 0.1*(9*y+1))\n",
    "    term3 = 0.5*np.exp(-(9*x-7)**2/4.0 - 0.25*((9*y-3)**2))\n",
    "    term4 = -0.2*np.exp(-(9*x-4)**2 - (9*y-7)**2)\n",
    "    return term1 + term2 + term3 + term4\n",
    "\n",
    "\n",
    "z = FrankeFunction(x, y)\n",
    "\n",
    "# Plot the surface.\n",
    "surf = ax.plot_surface(x, y, z, cmap=cm.coolwarm,\n",
    "                       linewidth=0, antialiased=False)\n",
    "\n",
    "# Customize the z axis.\n",
    "ax.set_zlim(-0.10, 1.40)\n",
    "ax.zaxis.set_major_locator(LinearLocator(10))\n",
    "ax.zaxis.set_major_formatter(FormatStrFormatter('%.02f'))\n",
    "\n",
    "# Add a color bar which maps values to colors.\n",
    "fig.colorbar(surf, shrink=0.5, aspect=5)\n",
    "\n",
    "plt.show()"
   ]
  },
  {
   "attachments": {},
   "cell_type": "markdown",
   "id": "9bf030f4",
   "metadata": {
    "editable": true
   },
   "source": [
    "### Part a) : Ordinary Least Square (OLS) on the Franke function\n",
    "\n",
    "We will generate our own dataset for a function\n",
    "$\\mathrm{FrankeFunction}(x,y)$ with $x,y \\in [0,1]$. The function\n",
    "$f(x,y)$ is the Franke function. You should explore also the addition\n",
    "of an added stochastic noise to this function using the normal\n",
    "distribution $N(0,1)$.\n",
    "\n",
    "*Write your own code* (using either a matrix inversion or a singular\n",
    "value decomposition from e.g., **numpy** ) and perform a standard **ordinary least square regression**\n",
    "analysis using polynomials in $x$ and $y$ up to fifth order.\n",
    "\n",
    "Evaluate the mean Squared error (MSE)"
   ]
  },
  {
   "attachments": {},
   "cell_type": "markdown",
   "id": "3be47d8d",
   "metadata": {
    "editable": true
   },
   "source": [
    "$$\n",
    "MSE(\\boldsymbol{y},\\tilde{\\boldsymbol{y}}) = \\frac{1}{n}\n",
    "\\sum_{i=0}^{n-1}(y_i-\\tilde{y}_i)^2,\n",
    "$$"
   ]
  },
  {
   "attachments": {},
   "cell_type": "markdown",
   "id": "f7f14618",
   "metadata": {
    "editable": true
   },
   "source": [
    "and the $R^2$ score function.  If $\\tilde{\\boldsymbol{y}}_i$ is the predicted\n",
    "value of the $i-th$ sample and $y_i$ is the corresponding true value,\n",
    "then the score $R^2$ is defined as"
   ]
  },
  {
   "attachments": {},
   "cell_type": "markdown",
   "id": "913d72b1",
   "metadata": {
    "editable": true
   },
   "source": [
    "$$\n",
    "R^2(\\boldsymbol{y}, \\tilde{\\boldsymbol{y}}) = 1 - \\frac{\\sum_{i=0}^{n - 1} (y_i - \\tilde{y}_i)^2}{\\sum_{i=0}^{n - 1} (y_i - \\bar{y})^2},\n",
    "$$"
   ]
  },
  {
   "attachments": {},
   "cell_type": "markdown",
   "id": "7a403d11",
   "metadata": {
    "editable": true
   },
   "source": [
    "where we have defined the mean value  of $\\boldsymbol{y}$ as"
   ]
  },
  {
   "attachments": {},
   "cell_type": "markdown",
   "id": "108b7a27",
   "metadata": {
    "editable": true
   },
   "source": [
    "$$\n",
    "\\bar{y} =  \\frac{1}{n} \\sum_{i=0}^{n - 1} y_i.\n",
    "$$"
   ]
  },
  {
   "attachments": {},
   "cell_type": "markdown",
   "id": "f1e64231",
   "metadata": {
    "editable": true
   },
   "source": [
    "Plot the resulting scores (MSE and R$^2$) as functions of the polynomial degree (here up to polymial degree five).\n",
    "Plot also the parameters $\\beta$ as you increase the order of the polynomial. Comment your results.\n",
    "\n",
    "Your code has to include a scaling/centering of the data (for example by\n",
    "subtracting the mean value), and\n",
    "a split of the data in training and test data. For this exercise you can\n",
    "either write your own code or use for example the function for\n",
    "splitting training data provided by the library **Scikit-Learn** (make\n",
    "sure you have installed it).  This function is called\n",
    "$train\\_test\\_split$.  **You should present a critical discussion of why and how you have scaled or not scaled the data**.\n",
    "\n",
    "It is normal in essentially all Machine Learning studies to split the\n",
    "data in a training set and a test set (eventually  also an additional\n",
    "validation set).  There\n",
    "is no explicit recipe for how much data should be included as training\n",
    "data and say test data.  An accepted rule of thumb is to use\n",
    "approximately $2/3$ to $4/5$ of the data as training data.\n",
    "\n",
    "You can easily reuse the solutions to your exercises from week 35 and week 36.\n",
    "See also the lecture slides from week 35 and week 36."
   ]
  },
  {
   "cell_type": "code",
   "execution_count": 1,
   "id": "12287d5d-10cc-4d49-af40-11ed8725f3a1",
   "metadata": {},
   "outputs": [
    {
     "data": {
      "image/png": "[encoded data removed]",
      "text/plain": [
       "<Figure size 432x288 with 1 Axes>"
      ]
     },
     "metadata": {},
     "output_type": "display_data"
    },
    {
     "data": {
      "image/png": "[encoded data removed]",
      "text/plain": [
       "<Figure size 432x288 with 1 Axes>"
      ]
     },
     "metadata": {},
     "output_type": "display_data"
    }
   ],
   "source": [
    "import numpy as np\n",
    "import matplotlib.pyplot as plt\n",
    "import seaborn as sns\n",
    "from matplotlib import cm\n",
    "from matplotlib.ticker import LinearLocator, FormatStrFormatter\n",
    "import sklearn.linear_model as skl\n",
    "from sklearn.model_selection import train_test_split\n",
    "from sklearn.datasets import fetch_california_housing\n",
    "\n",
    "sns.set_theme()\n",
    "\n",
    "def Franke_function(x,y, noise=False):\n",
    "  \"\"\"\n",
    "  Franke_function returns an array with dimension (len(x), len(y)), if noise is set to true\n",
    "  the output will contain noise given by a gaussian distribution N(0,1)\n",
    "\n",
    "  :x: is an array containing all the x values it can be a one dimensional array or a 2D array\n",
    "  :y: is an array containing all the y values it can be a one dimensional array or a 2D array\n",
    "  \"\"\"\n",
    "  term1 = 0.75*np.exp(-(0.25*(9*x-2)**2) - 0.25*((9*y-2)**2))\n",
    "  term2 = 0.75*np.exp(-((9*x+1)**2)/49.0 - 0.1*(9*y+1))\n",
    "  term3 = 0.5*np.exp(-(9*x-7)**2/4.0 - 0.25*((9*y-3)**2))\n",
    "  term4 = -0.2*np.exp(-(9*x-4)**2 - (9*y-7)**2)\n",
    "  if noise==True:\n",
    "    noise_val = np.random.normal(0, 1, len(x)*len(y)) \n",
    "    noise_val = noise_val.reshape(len(x),len(y))\n",
    "    return term1 + term2 + term3 + term4 + noise_val\n",
    "  else:\n",
    "    return term1 + term2 + term3 + term4\n",
    "\n",
    "\n",
    "def design_matrix(x,y,degree):\n",
    "\t\"\"\"\n",
    "\tdesign_matrix create the design matrix for a polynomial of degree n with dimension (len(x)*len(y), degree)\n",
    "\t\n",
    "\t:x: is an array containing all the x values it can be a 1D array or a 2D array\n",
    "  :y: is an array containing all the y values it can be a 1D array or a 2D array\n",
    "  :degree: is the polynomial degree of the fit\n",
    "  \"\"\"\n",
    "\tif len(x.shape) > 1:\n",
    "\t\tx = np.ravel(x)\n",
    "\t\ty = np.ravel(y)\n",
    "\n",
    "\tN = len(x)\n",
    "\tl = int((degree+1)*(degree+2)/2)\t\t# Number of elements in beta\n",
    "\tX = np.ones((N,l))\n",
    "\n",
    "\tfor i in range(1,degree+1):\n",
    "\t\tq = int((i)*(i+1)/2)\n",
    "\t\tfor k in range(i+1):\n",
    "\t\t\tX[:,q+k] = (x**(i-k))*(y**k)\n",
    "\n",
    "\treturn X\n",
    "\n",
    "def beta_OLS(X, y):\n",
    "  \"\"\"\n",
    "  beta_OLS calculates the beta values either with matrix inversion or if not possible it uses \n",
    "  singular value decomposition, returns an array with dimension (degree, )\n",
    "\n",
    "  :X: is the disign matrix with dimension (len(x)*len(y), degree)\n",
    "  :y: is the data we whant to fit with dimension (len(x), len(y))\n",
    "  \"\"\"\n",
    "  try: \n",
    "    # check if the design matrix is invertible\n",
    "    return np.linalg.inv(X.T @ X) @ X.T @ y \n",
    "  except: \n",
    "    # If the design matrix is not invertible we do a singular value decomposition\n",
    "    U,S,Vt = np.linalg.svd(X, full_matrices=False)\n",
    "    return Vt.T @ np.linalg.inv(np.diag(S)) @ U.T @ y.flatten()\n",
    "\n",
    "def MSE(y_data, y_model):\n",
    "  \"\"\"\n",
    "  MSE calculates the mean square error of the fit\n",
    "\n",
    "  :y_data: the original data we want to fit, with dimension (len(x), len(y))\n",
    "  :y_model: the model we have createt from y_data, with dimension (len(x), len(y))\n",
    "  \"\"\"\n",
    "  return 1/len(y_data) * np.sum((y_data - y_model)**2)\n",
    "\n",
    "def R2(y_data, y_model):\n",
    "  \"\"\"\n",
    "  R2 calculates the R2 score for the fit\n",
    "\n",
    "  :y_data: the original data we want to fit, with dimension (len(x), len(y))\n",
    "  :y_model: the model we have createt from y_data, with dimension (len(x), len(y))\n",
    "  \"\"\"\n",
    "  return 1 - np.sum((y_data - y_model) ** 2) / np.sum((y_data - np.mean(y_data)) ** 2)\n",
    "\n",
    "def plotting(x, y , y_model):\n",
    "  fig = plt.figure(figsize=(20,8))\n",
    "  ax = fig.gca(projection ='3d')\n",
    "  surf = ax.plot_surface(x,y,y_model,cmap=cm.twilight, linewidth = 0, antialiased=False)\n",
    "  ax.set_zlim(-0.10,1.40)\n",
    "  ax.set_xlabel('X-axis', fontsize=30)\n",
    "  ax.set_ylabel('Y-axis', fontsize=30)\n",
    "  ax.set_zlabel('Z-axis', fontsize=30)\n",
    "  ax.zaxis.set_major_locator(LinearLocator(10))\n",
    "  ax.zaxis.set_major_formatter(FormatStrFormatter('%.02f'))\n",
    "  ax.zaxis.labelpad = 12\n",
    "  ax.xaxis.labelpad = 25\n",
    "  ax.yaxis.labelpad = 20\n",
    "  ax.tick_params(axis='x', labelsize=20)\n",
    "  ax.tick_params(axis='y', labelsize=20)\n",
    "  ax.tick_params(axis='z', labelsize=20)\n",
    "  plt.show()\n",
    "    \n",
    "\n",
    "\n",
    "if __name__ == \"__main__\":\n",
    "  np.random.seed(2023)\n",
    "  n = 100 # amount of data points\n",
    "  degree = np.linspace(1,15, 15, dtype=int)\n",
    "\n",
    "  #Create x and y values\n",
    "  x = np.linspace(0,1, n)\n",
    "  y = x\n",
    "  #Create a meshgrid of x and y so we later can plot in 3D\n",
    "  x,y = np.meshgrid(x,y)\n",
    "\n",
    "  #creating arrays to append \n",
    "  mse_error_OLS_train = np.zeros(len(degree))\n",
    "  r2_score_train = np.zeros(len(degree))\n",
    "  mse_error_OLS_test = np.zeros(len(degree))\n",
    "  r2_score_test = np.zeros(len(degree))\n",
    "\n",
    "  #Compute the Franke function with noise \n",
    "  f = Franke_function(x,y, noise=True)\n",
    "\n",
    "  fig, ax = plt.subplots()\n",
    "  for d in degree:\n",
    "    #Create the design matrix\n",
    "    X = design_matrix(x,y,d)\n",
    "    X_train, X_test, y_train, y_test = train_test_split(X, f.flatten(), test_size=0.2)\n",
    "    #Calculate the beta values\n",
    "    beta = beta_OLS(X_train,y_train)\n",
    "\n",
    "    #Crate the model \n",
    "    model_train = X_train @ beta\n",
    "    model_test = X_test @ beta\n",
    "\n",
    "    #calculating the MSE and R2 score\n",
    "    mse_error_OLS_train[d-1] = MSE(y_train, model_train)\n",
    "    r2_score_train[d-1] = R2(y_train, model_train)\n",
    "\n",
    "    mse_error_OLS_test[d-1] = MSE(y_test, model_test)\n",
    "    r2_score_test[d-1] = R2(y_test, model_test)\n",
    "\n",
    "    if d-1 == 0:\n",
    "      ax.scatter(degree[d-1], mse_error_OLS_train[d-1], color=\"tab:orange\", label=\"MSE training\")\n",
    "      ax.scatter(degree[d-1], r2_score_train[d-1], color=\"tab:blue\", label=\"R2 score training\")\n",
    "\n",
    "      ax.scatter(degree[d-1], mse_error_OLS_test[d-1], color=\"tab:green\", label=\"MSE testing\")\n",
    "      ax.scatter(degree[d-1], r2_score_test[d-1], color=\"purple\", label=\"R2 score testing\")\n",
    "    else:\n",
    "      ax.scatter(degree[d-1], mse_error_OLS_train[d-1], color=\"tab:orange\")\n",
    "      ax.scatter(degree[d-1], r2_score_train[d-1], color=\"tab:blue\")\n",
    "\n",
    "      ax.scatter(degree[d-1], mse_error_OLS_test[d-1], color=\"tab:green\")\n",
    "      ax.scatter(degree[d-1], r2_score_test[d-1], color=\"purple\")\n",
    "        \n",
    "  \n",
    "  ax.set_title(\"MSE and R2 scores for fitts with different polynomial degrees\")\n",
    "  ax.set_xlabel(\"Degree\")\n",
    "  ax.set_ylabel(\"MSE and R2 values\")\n",
    "  ax.legend() \n",
    "  plt.show()\n",
    "\n",
    "  fig, ax = plt.subplots()\n",
    "  ax.scatter(x[0], (X @ beta)[0:100])\n",
    "  ax.plot(x[0], f[0])\n",
    "  plt.show()"
   ]
  },
  {
   "attachments": {},
   "cell_type": "markdown",
   "id": "30bca1e7",
   "metadata": {
    "editable": true
   },
   "source": [
    "### Part b): Adding Ridge regression for  the Franke function\n",
    "Write your own code for the Ridge method, either using matrix\n",
    "inversion or the singular value decomposition as done in the previous\n",
    "exercise. The lecture notes from week 35 and 36 contain more information. Furthermore, the numerical exercise from week 36 is something you can reuse here.\n",
    "\n",
    "Perform the same analysis as you did in the previous exercise but now for different values of $\\lambda$. Compare and\n",
    "analyze your results with those obtained in part a) with the ordinary least squares method. Study the\n",
    "dependence on $\\lambda$."
   ]
  },
  {
   "cell_type": "code",
   "execution_count": null,
   "id": "50f6a6e9-417f-470a-993b-60a80a779cb0",
   "metadata": {},
   "outputs": [],
   "source": [
    "import numpy as np\n",
    "from part_a import Franke_function, design_matrix, MSE, R2\n",
    "import matplotlib.pyplot as plt\n",
    "from matplotlib.ticker import LinearLocator, FormatStrFormatter\n",
    "from matplotlib import cm\n",
    "from sklearn.model_selection import train_test_split\n",
    "\n",
    "np.random.seed(2023)\n",
    "\n",
    "def beta_ridge(X, y, lamb):\n",
    "    return np.linalg.pinv(X.T @ X + lamb * np.identity(len(X[0]))) @ X.T @ y.flatten()\n",
    "    \n",
    "n = 100   \n",
    "degree = 20\n",
    "lamb = np.linspace(1e-10, 1e-5, 100)\n",
    "print(np.log10(lamb))\n",
    "\n",
    "x = np.linspace(0, 1, n)\n",
    "y = x\n",
    "\n",
    "x,y = np.meshgrid(x,y)\n",
    "f = Franke_function(x,y)#, noise=True)\n",
    "\n",
    "mse_error_Ridge_train = np.zeros(len(lamb))\n",
    "r2_score_train = np.zeros(len(lamb))\n",
    "mse_error_Ridge_test = np.zeros(len(lamb))\n",
    "r2_score_test = np.zeros(len(lamb))\n",
    "\n",
    "index = 0\n",
    "mse_error = 1000\n",
    "R2_score = 0\n",
    "fig, ax = plt.subplots()\n",
    "\n",
    "for l in lamb:\n",
    "    #print(l) \n",
    "    X = design_matrix(x,y, degree)\n",
    "    X_train, X_test, y_train, y_test = train_test_split(X, f.flatten(), test_size=0.2) \n",
    "    \n",
    "    beta = beta_ridge(X_train,y_train, l)\n",
    "\n",
    "    model_train = X_train @ beta\n",
    "    model_test = X_test @ beta\n",
    "\n",
    "        #calculating the MSE and R2 score\n",
    "    mse_error_Ridge_train[index] = MSE(y_train, model_train)\n",
    "        #r2_score_train[index] = R2(y_train, model_train)\n",
    "\n",
    "        #mse_error_Ridge_test[index] = MSE(y_test, model_test)\n",
    "        #r2_score_test[index] = R2(y_test, model_test)\n",
    "    index += 1\n",
    "   \n",
    "    \n",
    " \n",
    "\n",
    "ax.plot(np.log10(lamb), mse_error_Ridge_train)\n",
    "#ax.plot(lamb, mse_error_Ridge_test)\n",
    "plt.legend()\n",
    "plt.show()\n",
    "\n",
    "\n",
    "#fig, ax = plt.subplots()\n",
    "#ax.scatter(x[0], (X @ beta)[0:100])\n",
    "#ax.plot(x[0], f[0])\n",
    "#plt.show()\n",
    "\n",
    "  \n",
    "#fig = plt.figure(figsize=(20,8))\n",
    "#ax = fig.gca(projection ='3d')\n",
    "#surf = ax.plot_surface(x,y,model,cmap=cm.twilight, linewidth = 0, antialiased=False)\n",
    "#ax.set_zlim(-0.10,1.40)\n",
    "#ax.set_xlabel('X-axis', fontsize=30)\n",
    "#ax.set_ylabel('Y-axis', fontsize=30)\n",
    "#ax.set_zlabel('Z-axis', fontsize=30)\n",
    "#ax.zaxis.set_major_locator(LinearLocator(10))\n",
    "#ax.zaxis.set_major_formatter(FormatStrFormatter('%.02f'))\n",
    "#ax.zaxis.labelpad = 12\n",
    "#ax.xaxis.labelpad = 25\n",
    "#ax.yaxis.labelpad = 20\n",
    "#ax.tick_params(axis='x', labelsize=20)\n",
    "#ax.tick_params(axis='y', labelsize=20)\n",
    "#ax.tick_params(axis='z', labelsize=20)\n",
    "#plt.show()\n"
   ]
  },
  {
   "attachments": {},
   "cell_type": "markdown",
   "id": "ae6a3eeb",
   "metadata": {
    "editable": true
   },
   "source": [
    "### Part c): Adding Lasso for the Franke function\n",
    "## Andrea\n",
    "\n",
    "This exercise is essentially a repeat of the previous two ones, but now\n",
    "with Lasso regression. Write either your own code (difficult and optional) or, in this case,\n",
    "you can also use the functionalities of **Scikit-Learn** (recommended). Keep in mind that the library **Scikit-Learn** excludes the intercept by default. \n",
    "Give a\n",
    "critical discussion of the three methods and a judgement of which\n",
    "model fits the data best."
   ]
  },
  {
   "attachments": {},
   "cell_type": "markdown",
   "id": "5ba7dff9",
   "metadata": {
    "editable": true
   },
   "source": [
    "### Part d): Paper and pencil part\n",
    "\n",
    "This exercise deals with various mean values and variances in  linear regression method (here it may be useful to look up chapter 3, equation (3.8) of [Trevor Hastie, Robert Tibshirani, Jerome H. Friedman, The Elements of Statistical Learning, Springer](https://www.springer.com/gp/book/9780387848570)). The exercise is also part of the weekly exercises for week 37.\n",
    "\n",
    "The assumption we have made is \n",
    "that there exists a continuous function $f(\\boldsymbol{x})$ and  a normal distributed error $\\boldsymbol{\\varepsilon}\\sim N(0, \\sigma^2)$\n",
    "which describes our data"
   ]
  },
  {
   "attachments": {},
   "cell_type": "markdown",
   "id": "84ca72c8",
   "metadata": {
    "editable": true
   },
   "source": [
    "$$\n",
    "\\boldsymbol{y} = f(\\boldsymbol{x})+\\boldsymbol{\\varepsilon}\n",
    "$$"
   ]
  },
  {
   "attachments": {},
   "cell_type": "markdown",
   "id": "0d734865",
   "metadata": {
    "editable": true
   },
   "source": [
    "We then approximate this function $f(\\boldsymbol{x})$ with our model $\\boldsymbol{\\tilde{y}}$ from the solution of the linear regression equations (ordinary least squares OLS), that is our\n",
    "function $f$ is approximated by $\\boldsymbol{\\tilde{y}}$ where we minimized  $(\\boldsymbol{y}-\\boldsymbol{\\tilde{y}})^2$, with"
   ]
  },
  {
   "attachments": {},
   "cell_type": "markdown",
   "id": "1dac6c19",
   "metadata": {
    "editable": true
   },
   "source": [
    "$$\n",
    "\\boldsymbol{\\tilde{y}} = \\boldsymbol{X}\\boldsymbol{\\beta}.\n",
    "$$"
   ]
  },
  {
   "attachments": {},
   "cell_type": "markdown",
   "id": "e04687a9",
   "metadata": {
    "editable": true
   },
   "source": [
    "The matrix $\\boldsymbol{X}$ is the so-called design or feature matrix. \n",
    "\n",
    "Show that  the expectation value of $\\boldsymbol{y}$ for a given element $i$"
   ]
  },
  {
   "attachments": {},
   "cell_type": "markdown",
   "id": "f99dbe69",
   "metadata": {
    "editable": true
   },
   "source": [
    "$$\n",
    "\\mathbb{E}(y_i)  =\\sum_{j}x_{ij} \\beta_j=\\mathbf{X}_{i, \\ast} \\, \\boldsymbol{\\beta},\n",
    "$$"
   ]
  },
  {
   "attachments": {},
   "cell_type": "markdown",
   "id": "0b3e0564",
   "metadata": {
    "editable": true
   },
   "source": [
    "and that\n",
    "its variance is"
   ]
  },
  {
   "attachments": {},
   "cell_type": "markdown",
   "id": "f660901d",
   "metadata": {
    "editable": true
   },
   "source": [
    "$$\n",
    "\\mbox{Var}(y_i)  = \\sigma^2.\n",
    "$$"
   ]
  },
  {
   "attachments": {},
   "cell_type": "markdown",
   "id": "e5fb68fb-824a-4cf9-81e1-d33a6e642f3f",
   "metadata": {},
   "source": [
    "Answer:\n",
    "\n",
    "Assume that X is non-stochastic\n",
    "$$\n",
    "\\boldsymbol{y_i}  = \\sum_{j}x_{ij} \\beta_j + \\boldsymbol{\\varepsilon}_{i} =\\mathbf{X}_{i, \\ast} \\, \\boldsymbol{\\beta} + \\boldsymbol{\\varepsilon}_{i},\n",
    "$$\n",
    "\n",
    "$$\n",
    "\\mathbb{IE}[y_i] = \\mathbb{IE}[\\mathbf{X}_{i, \\ast} \\, \\boldsymbol{\\beta}] + \\mathbb{IE}[\\boldsymbol{\\varepsilon}_{i}],\n",
    "$$\n",
    "\n",
    "$$\n",
    "With \\,\\,\\, \\mathbb{IE}[\\boldsymbol{\\varepsilon}_{i}] = 0, \\,\\,\\,\\, We \\,\\, get \\,\\,\\, \\mathbb{IE}[y_i] = \\mathbf{X}_{i, \\ast} \\, \\boldsymbol{\\beta}\n",
    "$$\n",
    "\n",
    "$$\n",
    "\\boldsymbol{Var}(\\boldsymbol{y_i})= \\mathbb{IE}[(\\boldsymbol{y_i} - \\mathbb{IE}[\\boldsymbol{y_i}])^2],\n",
    "$$\n",
    "\n",
    "$$\n",
    "= \\mathbb{IE}[\\boldsymbol{y_i}^2] - (\\mathbb{IE}[\\boldsymbol{y_i}])^2\n",
    "$$\n",
    "\n",
    "$$\n",
    "= \\mathbb{IE}[(\\boldsymbol{x_i}\\boldsymbol{*}\\boldsymbol{\\beta} + \\boldsymbol{\\varepsilon_i})^2] - (\\boldsymbol{x_i}\\boldsymbol{*}\\boldsymbol{\\beta})^2\n",
    "$$\n",
    "\n",
    "$$\n",
    "= \\mathbb{IE}[(\\boldsymbol{x_i}\\boldsymbol{*}\\boldsymbol{\\beta})^2 + 2\\boldsymbol{x_i}\\boldsymbol{*}\\boldsymbol{\\beta} \\boldsymbol{\\varepsilon_i} + \\boldsymbol{\\varepsilon_i}^2] - (\\boldsymbol{x_i}\\boldsymbol{*}\\boldsymbol{\\beta})^2\n",
    "$$\n",
    "\n",
    "$$\n",
    "= \\mathbb{IE}[2\\boldsymbol{x_i}\\boldsymbol{*}\\boldsymbol{\\beta} \\boldsymbol{\\varepsilon_i} + \\boldsymbol{\\varepsilon_i}^2] \n",
    "$$\n",
    "\n",
    "$$\n",
    "= \\mathbb{IE}[\\boldsymbol{\\varepsilon_i}^2] = \\sigma^2\n",
    "$$\n",
    "\n",
    "\n",
    "$$\n",
    "\\mbox{Var}(y_i)  = \\sigma^2\n",
    "$$"
   ]
  },
  {
   "attachments": {},
   "cell_type": "markdown",
   "id": "7a1c7f34",
   "metadata": {
    "editable": true
   },
   "source": [
    "Hence, $y_i \\sim N( \\mathbf{X}_{i, \\ast} \\, \\boldsymbol{\\beta}, \\sigma^2)$, that is $\\boldsymbol{y}$ follows a normal distribution with \n",
    "mean value $\\boldsymbol{X}\\boldsymbol{\\beta}$ and variance $\\sigma^2$.\n",
    "\n",
    "With the OLS expressions for the optimal parameters $\\boldsymbol{\\hat{\\beta}}$ show that"
   ]
  },
  {
   "attachments": {},
   "cell_type": "markdown",
   "id": "becad040",
   "metadata": {
    "editable": true
   },
   "source": [
    "$$\n",
    "\\mathbb{E}(\\boldsymbol{\\hat{\\beta}}) = \\boldsymbol{\\beta}.\n",
    "$$"
   ]
  },
  {
   "attachments": {},
   "cell_type": "markdown",
   "id": "6d14ff93-0e78-44b8-9572-7715d295150f",
   "metadata": {},
   "source": [
    "\n",
    "\n",
    "$$\n",
    "= \\mathbb{E}[(X^TX)^{-1}X^TY]\n",
    "$$\n",
    "\n",
    "$$\n",
    "= (X^TX)^{-1}X^T\\mathbb{E}[Y]\n",
    "$$\n",
    "\n",
    "$$\n",
    "= (X^TX)^{-1}X^TX\\boldsymbol{\\beta}\n",
    "$$\n",
    "\n",
    "$$\n",
    "= \\boldsymbol{\\beta}\n",
    "$$"
   ]
  },
  {
   "attachments": {},
   "cell_type": "markdown",
   "id": "242ede2f",
   "metadata": {
    "editable": true
   },
   "source": [
    "Show finally that the variance of $\\boldsymbol{\\beta}$ is"
   ]
  },
  {
   "attachments": {},
   "cell_type": "markdown",
   "id": "d4999c5f",
   "metadata": {
    "editable": true
   },
   "source": [
    "$$\n",
    "\\mbox{Var}(\\boldsymbol{\\hat{\\beta}}) = \\sigma^2 \\, (\\mathbf{X}^{T} \\mathbf{X})^{-1}.\n",
    "$$"
   ]
  },
  {
   "attachments": {},
   "cell_type": "markdown",
   "id": "23c4de4c-3560-4b86-94b1-bfaa150e10b1",
   "metadata": {},
   "source": [
    "Answer notes:\n",
    "$$\n",
    "\\mbox{Var}(\\boldsymbol{\\hat{\\beta}}) = \\mathbb{E} \\{ [\\boldsymbol{\\beta} - \\mathbb{E}(\\boldsymbol{\\beta})] [\\boldsymbol{\\beta} - \\mathbb{E}(\\boldsymbol{\\beta})]^{T} \\}\n",
    "$$\n",
    "\n",
    "$$\n",
    "=  \\mathbb{E} ([(\\mathbf{X}^{T} \\mathbf{X})^{-1} \\, \\mathbf{X}^{T} \\mathbf{Y} - \\boldsymbol{\\beta}] \\, [(\\mathbf{X}^{T} \\mathbf{X})^{-1} \\, \\mathbf{X}^{T} \\mathbf{Y} - \\boldsymbol{\\beta}]^{T})\n",
    "$$\n",
    "\n",
    "$$\n",
    "=  \\mathbb{E} ([(\\mathbf{X}^{T} \\mathbf{X})^{-1} \\, \\mathbf{X}^{T} \\mathbf{Y} - \\boldsymbol{\\beta}] \\, [ \\, \\mathbf{Y}^T \\mathbf{X} (\\mathbf{X}^{T} \\mathbf{X})^{-1} - \\boldsymbol{\\beta}^T])\n",
    "$$\n",
    "\n",
    "$$\n",
    "=  (\\mathbf{X}^{T} \\mathbf{X})^{-1} \\, \\mathbf{X}^{T} \\, \\mathbb{E} (\\mathbf{Y} \\, \\mathbf{Y}^{T}) \\, \\mathbf{X} \\, (\\mathbf{X}^{T} \\mathbf{X})^{-1} - \\boldsymbol{\\beta} \\, \\boldsymbol{\\beta}^{T}\n",
    "$$\n",
    "\n",
    "$$\n",
    "=  (\\mathbf{X}^{T} \\mathbf{X})^{-1} \\, \\mathbf{X}^{T} \\, (\\mathbf{X} \\, \\boldsymbol{\\beta} \\, \\boldsymbol{\\beta}^{T} \\,  \\mathbf{X}^{T} + \\sigma^2) \\, \\mathbf{X} \\, (\\mathbf{X}^{T} \\mathbf{X})^{-1} - \\boldsymbol{\\beta} \\, \\boldsymbol{\\beta}^{T}\n",
    "$$\n",
    "\n",
    "$$\n",
    "=  \\boldsymbol{\\beta} \\, \\boldsymbol{\\beta}^{T}  + \\sigma^2 \\, (\\mathbf{X}^{T} \\mathbf{X})^{-1} - \\boldsymbol{\\beta} \\, \\boldsymbol{\\beta}^{T}\n",
    "\\, \\, \\, = \\, \\, \\, \\sigma^2 \\, (\\mathbf{X}^{T} \\mathbf{X})^{-1}\n",
    "$$"
   ]
  },
  {
   "attachments": {},
   "cell_type": "markdown",
   "id": "46386eef",
   "metadata": {
    "editable": true
   },
   "source": [
    "We can use the last expression when we define a so-called confidence interval for the parameters $\\beta$. \n",
    "A given parameter $\\beta_j$ is given by the diagonal matrix element of the above matrix."
   ]
  },
  {
   "attachments": {},
   "cell_type": "markdown",
   "id": "9f27e396",
   "metadata": {
    "editable": true
   },
   "source": [
    "### Part e): Bias-variance trade-off and resampling techniques\n",
    "## Jovie\n",
    "Our aim here is to study the bias-variance trade-off by implementing the **bootstrap** resampling technique.\n",
    "**We will only use the simpler ordinary least squares here**.\n",
    "\n",
    "With a code which does OLS and includes resampling techniques, \n",
    "we will now discuss the bias-variance trade-off in the context of\n",
    "continuous predictions such as regression. However, many of the\n",
    "intuitions and ideas discussed here also carry over to classification\n",
    "tasks and basically all Machine Learning algorithms. \n",
    "\n",
    "Before you perform an analysis of the bias-variance trade-off on your test data, make\n",
    "first a figure similar to Fig. 2.11 of Hastie, Tibshirani, and\n",
    "Friedman. Figure 2.11 of this reference displays only the test and training MSEs. The test MSE can be used to \n",
    "indicate possible regions of low/high bias and variance. You will most likely not get an\n",
    "equally smooth curve!\n",
    "\n",
    "With this result we move on to the bias-variance trade-off analysis.\n",
    "\n",
    "Consider a\n",
    "dataset $\\mathcal{L}$ consisting of the data\n",
    "$\\mathbf{X}_\\mathcal{L}=\\{(y_j, \\boldsymbol{x}_j), j=0\\ldots n-1\\}$.\n",
    "\n",
    "As in part d), we assume that the true data is generated from a noisy model"
   ]
  },
  {
   "attachments": {},
   "cell_type": "markdown",
   "id": "902b759d",
   "metadata": {
    "editable": true
   },
   "source": [
    "$$\n",
    "\\boldsymbol{y}=f(\\boldsymbol{x}) + \\boldsymbol{\\epsilon}.\n",
    "$$"
   ]
  },
  {
   "attachments": {},
   "cell_type": "markdown",
   "id": "41a0b8d7",
   "metadata": {
    "editable": true
   },
   "source": [
    "Here $\\epsilon$ is normally distributed with mean zero and standard\n",
    "deviation $\\sigma^2$.\n",
    "\n",
    "In our derivation of the ordinary least squares method we defined then\n",
    "an approximation to the function $f$ in terms of the parameters\n",
    "$\\boldsymbol{\\beta}$ and the design matrix $\\boldsymbol{X}$ which embody our model,\n",
    "that is $\\boldsymbol{\\tilde{y}}=\\boldsymbol{X}\\boldsymbol{\\beta}$.\n",
    "\n",
    "The parameters $\\boldsymbol{\\beta}$ are in turn found by optimizing the mean\n",
    "squared error via the so-called cost function"
   ]
  },
  {
   "attachments": {},
   "cell_type": "markdown",
   "id": "89cced85",
   "metadata": {
    "editable": true
   },
   "source": [
    "$$\n",
    "C(\\boldsymbol{X},\\boldsymbol{\\beta}) =\\frac{1}{n}\\sum_{i=0}^{n-1}(y_i-\\tilde{y}_i)^2=\\mathbb{E}\\left[(\\boldsymbol{y}-\\boldsymbol{\\tilde{y}})^2\\right].\n",
    "$$"
   ]
  },
  {
   "attachments": {},
   "cell_type": "markdown",
   "id": "22bb8b90",
   "metadata": {
    "editable": true
   },
   "source": [
    "Here the expected value $\\mathbb{E}$ is the sample value. \n",
    "\n",
    "Show that you can rewrite  this in terms of a term which contains the variance of the model itself (the so-called variance term), a\n",
    "term which measures the deviation from the true data and the mean value of the model (the bias term) and finally the variance of the noise.\n",
    "That is, show that"
   ]
  },
  {
   "attachments": {},
   "cell_type": "markdown",
   "id": "e88ba22d",
   "metadata": {
    "editable": true
   },
   "source": [
    "$$\n",
    "\\mathbb{E}\\left[(\\boldsymbol{y}-\\boldsymbol{\\tilde{y}})^2\\right]=(\\mathrm{Bias}[\\tilde{y}])^2+\\mathrm{var}[\\tilde{f}]+\\sigma^2,\n",
    "$$"
   ]
  },
  {
   "attachments": {},
   "cell_type": "markdown",
   "id": "e2156ab0",
   "metadata": {
    "editable": true
   },
   "source": [
    "with"
   ]
  },
  {
   "attachments": {},
   "cell_type": "markdown",
   "id": "7d08fd36",
   "metadata": {
    "editable": true
   },
   "source": [
    "$$\n",
    "(\\mathrm{Bias}[\\tilde{y}])^2=\\left(\\boldsymbol{y}-\\mathbb{E}\\left[\\boldsymbol{\\tilde{y}}\\right]\\right)^2,\n",
    "$$"
   ]
  },
  {
   "attachments": {},
   "cell_type": "markdown",
   "id": "5cdcf0c6",
   "metadata": {
    "editable": true
   },
   "source": [
    "and"
   ]
  },
  {
   "attachments": {},
   "cell_type": "markdown",
   "id": "3235550b",
   "metadata": {
    "editable": true
   },
   "source": [
    "$$\n",
    "\\mathrm{var}[\\tilde{f}]=\\frac{1}{n}\\sum_i(\\tilde{y}_i-\\mathbb{E}\\left[\\boldsymbol{\\tilde{y}}\\right])^2.\n",
    "$$"
   ]
  },
  {
   "attachments": {},
   "cell_type": "markdown",
   "id": "813e8659",
   "metadata": {
    "editable": true
   },
   "source": [
    "The answer to this exercise should be included in the theory part of the report.  This exercise is also part of the weekly exercises of week 37.\n",
    "Explain what the terms mean and discuss their interpretations.\n",
    "\n",
    "Perform then a bias-variance analysis of the Franke function by\n",
    "studying the MSE value as function of the complexity of your model.\n",
    "\n",
    "Discuss the bias and variance trade-off as function\n",
    "of your model complexity (the degree of the polynomial) and the number\n",
    "of data points, and possibly also your training and test data using the **bootstrap** resampling method.\n",
    "You can follow the code example in the jupyter-book at <https://compphysics.github.io/MachineLearning/doc/LectureNotes/_build/html/chapter3.html#the-bias-variance-tradeoff>."
   ]
  },
  {
   "attachments": {},
   "cell_type": "markdown",
   "id": "adf1396f",
   "metadata": {
    "editable": true
   },
   "source": [
    "### Part f):  Cross-validation as resampling techniques, adding more complexity\n",
    "\n",
    "## - Max\n",
    "\n",
    "The aim here is to write your own code for another widely popular\n",
    "resampling technique, the so-called cross-validation method.  \n",
    "\n",
    "Implement the $k$-fold cross-validation algorithm (write your own\n",
    "code) and evaluate again the MSE function resulting\n",
    "from the test folds. You can compare your own code with that from\n",
    "**Scikit-Learn** if needed. \n",
    "\n",
    "Compare the MSE you get from your cross-validation code with the one\n",
    "you got from your **bootstrap** code. Comment your results. Try $5-10$\n",
    "folds.  You can also compare your own cross-validation code with the\n",
    "one provided by **Scikit-Learn**.\n",
    "\n",
    "In addition to using the ordinary least squares method, you should include both Ridge and Lasso regression."
   ]
  },
  {
   "attachments": {},
   "cell_type": "markdown",
   "id": "a7cb0fd1",
   "metadata": {
    "editable": true
   },
   "source": [
    "### Part g): Analysis of real data\n",
    "\n",
    "With our codes functioning and having been tested properly on a\n",
    "simpler function we are now ready to look at real data. We will\n",
    "essentially repeat in this exercise what was done in exercises a-f. However, we\n",
    "need first to download the data and prepare properly the inputs to our\n",
    "codes.  We are going to download digital terrain data from the website\n",
    "<https://earthexplorer.usgs.gov/>,\n",
    "\n",
    "Or, if you prefer, we have placed selected datafiles at <https://github.com/CompPhysics/MachineLearning/tree/master/doc/Projects/2023/Project1/DataFiles>\n",
    "\n",
    "In order to obtain data for a specific region, you need to register as\n",
    "a user (free) at this website and then decide upon which area you want\n",
    "to fetch the digital terrain data from.  In order to be able to read\n",
    "the data properly, you need to specify that the format should be **SRTM\n",
    "Arc-Second Global** and download the data as a **GeoTIF** file.  The\n",
    "files are then stored in *tif* format which can be imported into a\n",
    "Python program using"
   ]
  },
  {
   "cell_type": "code",
   "execution_count": null,
   "id": "3be6c174",
   "metadata": {
    "collapsed": false,
    "editable": true,
    "jupyter": {
     "outputs_hidden": false
    }
   },
   "outputs": [],
   "source": [
    "scipy.misc.imread"
   ]
  },
  {
   "attachments": {},
   "cell_type": "markdown",
   "id": "9544f6e7",
   "metadata": {
    "editable": true
   },
   "source": [
    "Here is a simple part of a Python code which reads and plots the data\n",
    "from such files"
   ]
  },
  {
   "cell_type": "code",
   "execution_count": null,
   "id": "c2dc1c15",
   "metadata": {
    "collapsed": false,
    "editable": true,
    "jupyter": {
     "outputs_hidden": false
    }
   },
   "outputs": [],
   "source": [
    "import numpy as np\n",
    "from imageio import imread\n",
    "import matplotlib.pyplot as plt\n",
    "from mpl_toolkits.mplot3d import Axes3D\n",
    "from matplotlib import cm\n",
    "\n",
    "# Load the terrain\n",
    "terrain1 = imread('SRTM_data_Norway_1.tif')\n",
    "# Show the terrain\n",
    "plt.figure()\n",
    "plt.title('Terrain over Norway 1')\n",
    "plt.imshow(terrain1, cmap='gray')\n",
    "plt.xlabel('X')\n",
    "plt.ylabel('Y')\n",
    "plt.show()"
   ]
  },
  {
   "attachments": {},
   "cell_type": "markdown",
   "id": "81854928",
   "metadata": {
    "editable": true
   },
   "source": [
    "If you should have problems in downloading the digital terrain data,\n",
    "we provide two examples under the data folder of project 1. One is\n",
    "from a region close to Stavanger in Norway and the other Møsvatn\n",
    "Austfjell, again in Norway.\n",
    "Feel free to produce your own terrain data.\n",
    "\n",
    "Alternatively, if you would like to use another data set, feel free to do so. This could be data close to your reseach area or simply a data set you found interesting. See for example [kaggle.com](https://www.kaggle.com/datasets) for examples.\n",
    "\n",
    "Our final part deals with the parameterization of your digital terrain\n",
    "data (or your own data).  We will apply all three methods for linear regression, the same type (or higher order) of polynomial\n",
    "approximation and cross-validation as resampling technique to evaluate which\n",
    "model fits the data best.\n",
    "\n",
    "At the end, you should present a critical evaluation of your results\n",
    "and discuss the applicability of these regression methods to the type\n",
    "of data presented here (either the terrain data we propose or other data sets)."
   ]
  },
  {
   "attachments": {},
   "cell_type": "markdown",
   "id": "9a8a9dc4",
   "metadata": {
    "editable": true
   },
   "source": [
    "## Background literature\n",
    "\n",
    "1. For a discussion and derivation of the variances and mean squared errors using linear regression, see the [Lecture notes on ridge regression by Wessel N. van Wieringen](https://arxiv.org/abs/1509.09169)\n",
    "\n",
    "2. The textbook of [Trevor Hastie, Robert Tibshirani, Jerome H. Friedman, The Elements of Statistical Learning, Springer](https://www.springer.com/gp/book/9780387848570), chapters 3 and 7 are the most relevant ones for the analysis here."
   ]
  },
  {
   "attachments": {},
   "cell_type": "markdown",
   "id": "df82eef8",
   "metadata": {
    "editable": true
   },
   "source": [
    "## Introduction to numerical projects\n",
    "\n",
    "Here follows a brief recipe and recommendation on how to answer the various questions when preparing your answers. \n",
    "\n",
    "  * Give a short description of the nature of the problem and the eventual  numerical methods you have used.\n",
    "\n",
    "  * Describe the algorithm you have used and/or developed. Here you may find it convenient to use pseudocoding. In many cases you can describe the algorithm in the program itself.\n",
    "\n",
    "  * Include the source code of your program. Comment your program properly. You should have the code at your GitHub/GitLab link. You can also place the code in an appendix of your report.\n",
    "\n",
    "  * If possible, try to find analytic solutions, or known limits in order to test your program when developing the code.\n",
    "\n",
    "  * Include your results either in figure form or in a table. Remember to        label your results. All tables and figures should have relevant captions        and labels on the axes.\n",
    "\n",
    "  * Try to evaluate the reliabilty and numerical stability/precision of your results. If possible, include a qualitative and/or quantitative discussion of the numerical stability, eventual loss of precision etc.\n",
    "\n",
    "  * Try to give an interpretation of you results in your answers to  the problems.\n",
    "\n",
    "  * Critique: if possible include your comments and reflections about the  exercise, whether you felt you learnt something, ideas for improvements and  other thoughts you've made when solving the exercise. We wish to keep this course at the interactive level and your comments can help us improve it.\n",
    "\n",
    "  * Try to establish a practice where you log your work at the  computerlab. You may find such a logbook very handy at later stages in your work, especially when you don't properly remember  what a previous test version  of your program did. Here you could also record  the time spent on solving the exercise, various algorithms you may have tested or other topics which you feel worthy of mentioning."
   ]
  },
  {
   "attachments": {},
   "cell_type": "markdown",
   "id": "ba32d247",
   "metadata": {
    "editable": true
   },
   "source": [
    "## Format for electronic delivery of report and programs\n",
    "\n",
    "The preferred format for the report is a PDF file. You can also use DOC or postscript formats or as an ipython notebook file.  As programming language we prefer that you choose between C/C++, Fortran2008, Julia or Python. The following prescription should be followed when preparing the report:\n",
    "\n",
    "  * Use Canvas to hand in your projects, log in  at  <https://www.uio.no/english/services/it/education/canvas/> with your normal UiO username and password.\n",
    "\n",
    "  * Upload **only** the report file or the link to your GitHub/GitLab or similar typo of  repos!  For the source code file(s) you have developed please provide us with your link to your GitHub/GitLab or similar  domain.  The report file should include all of your discussions and a list of the codes you have developed.  Do not include library files which are available at the course homepage, unless you have made specific changes to them.\n",
    "\n",
    "  * In your GitHub/GitLab or similar repository, please include a folder which contains selected results. These can be in the form of output from your code for a selected set of runs and input parameters.\n",
    "\n",
    "Finally, \n",
    "we encourage you to collaborate. Optimal working groups consist of \n",
    "2-3 students. You can then hand in a common report."
   ]
  },
  {
   "attachments": {},
   "cell_type": "markdown",
   "id": "cb0788db",
   "metadata": {
    "editable": true
   },
   "source": [
    "## Software and needed installations\n",
    "\n",
    "If you have Python installed (we recommend Python3) and you feel pretty familiar with installing different packages, \n",
    "we recommend that you install the following Python packages via **pip** as\n",
    "1. pip install numpy scipy matplotlib ipython scikit-learn tensorflow sympy pandas pillow\n",
    "\n",
    "For Python3, replace **pip** with **pip3**.\n",
    "\n",
    "See below for a discussion of **tensorflow** and **scikit-learn**. \n",
    "\n",
    "For OSX users we recommend also, after having installed Xcode, to install **brew**. Brew allows \n",
    "for a seamless installation of additional software via for example\n",
    "1. brew install python3\n",
    "\n",
    "For Linux users, with its variety of distributions like for example the widely popular Ubuntu distribution\n",
    "you can use **pip** as well and simply install Python as \n",
    "1. sudo apt-get install python3  (or python for python2.7)\n",
    "\n",
    "etc etc. \n",
    "\n",
    "If you don't want to install various Python packages with their dependencies separately, we recommend two widely used distrubutions which set up  all relevant dependencies for Python, namely\n",
    "1. [Anaconda](https://docs.anaconda.com/) Anaconda is an open source distribution of the Python and R programming languages for large-scale data processing, predictive analytics, and scientific computing, that aims to simplify package management and deployment. Package versions are managed by the package management system **conda**\n",
    "\n",
    "2. [Enthought canopy](https://www.enthought.com/product/canopy/)  is a Python distribution for scientific and analytic computing distribution and analysis environment, available for free and under a commercial license.\n",
    "\n",
    "Popular software packages written in Python for ML are\n",
    "\n",
    "* [Scikit-learn](http://scikit-learn.org/stable/), \n",
    "\n",
    "* [Tensorflow](https://www.tensorflow.org/),\n",
    "\n",
    "* [PyTorch](http://pytorch.org/) and \n",
    "\n",
    "* [Keras](https://keras.io/).\n",
    "\n",
    "These are all freely available at their respective GitHub sites. They \n",
    "encompass communities of developers in the thousands or more. And the number\n",
    "of code developers and contributors keeps increasing."
   ]
  }
 ],
 "metadata": {
  "kernelspec": {
   "display_name": "Python 3 (ipykernel)",
   "language": "python",
   "name": "python3"
  },
  "language_info": {
   "codemirror_mode": {
    "name": "ipython",
    "version": 3
   },
   "file_extension": ".py",
   "mimetype": "text/x-python",
   "name": "python",
   "nbconvert_exporter": "python",
   "pygments_lexer": "ipython3",
   "version": "3.10.4"
  }
 },
 "nbformat": 4,
 "nbformat_minor": 5
}
